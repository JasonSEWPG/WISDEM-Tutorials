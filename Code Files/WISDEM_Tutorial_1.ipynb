{
 "cells": [
  {
   "cell_type": "markdown",
   "metadata": {},
   "source": [
    "# WISDEM Tutorial 1"
   ]
  },
  {
   "cell_type": "markdown",
   "metadata": {},
   "source": [
    "As an example of WISDEM, let us use the NREL Cost and Scaling Model and simulate the NREL 5MW Reference Model [FAST2009] in a 500 mW offshore plant.  This tutorial is based on the upcoming release of WISDEM.  For tutorials on WISDEM in the current release version (using OpenMDAO 0.10.3.2), see the WISDEM documentation which can be found here:\n",
    "http://wisdem.github.io/WISDEM/\n",
    "\n",
    "First navigate to your folder with your WISDEM code."
   ]
  },
  {
   "cell_type": "code",
   "execution_count": 15,
   "metadata": {},
   "outputs": [
    {
     "name": "stdout",
     "output_type": "stream",
     "text": [
      "C:\\SystemsEng\\WISDEM Tutorial\\WISDEM\\Code Files 2\n"
     ]
    }
   ],
   "source": [
    "cd C:\\SystemsEng\\WISDEM Tutorial\\WISDEM\\Code Files 2\n"
   ]
  },
  {
   "cell_type": "markdown",
   "metadata": {},
   "source": [
    "The first step is to import the relevant files and set up the component."
   ]
  },
  {
   "cell_type": "code",
   "execution_count": 16,
   "metadata": {},
   "outputs": [],
   "source": [
    "# A simple test of WISDEM using the NREL CSM\n",
    "from openmdao.api import IndepVarComp, Component, Problem, Group\n",
    "from fused_wind import create_interface , FUSED_Object , FUSED_OpenMDAO , set_output, set_input, fusedvar\n",
    "\n",
    "# NREL cost and scaling model sub-assemblies\n",
    "from nrel_csm_tcc import tcc_csm_fused\n",
    "from nrel_csm_bos import bos_csm_fused\n",
    "from nrel_csm_opex  import opex_csm_fused\n",
    "from nrel_csm_fin import fin_csm_fused\n",
    "from nrel_csm_aep import aep_csm_fused\n",
    "\n",
    "import numpy as np"
   ]
  },
  {
   "cell_type": "markdown",
   "metadata": {},
   "source": [
    "Now we will set up a problem that uses the above NREL cost and scaling model (csm) components into a group and add it to a problem for analysis."
   ]
  },
  {
   "cell_type": "code",
   "execution_count": 17,
   "metadata": {},
   "outputs": [
    {
     "name": "stdout",
     "output_type": "stream",
     "text": [
      "##############################################\n",
      "Setup: Checking root problem for potential issues...\n",
      "\n",
      "No recorders have been specified, so no data will be saved.\n",
      "\n",
      "The following parameters have no associated unknowns:\n",
      "RNA_mass\n",
      "air_density\n",
      "altitude\n",
      "array_losses\n",
      "availability\n",
      "blade_number\n",
      "cut_in_wind_speed\n",
      "cut_out_wind_speed\n",
      "max_efficiency\n",
      "max_power_coefficient\n",
      "max_tip_speed\n",
      "multiplier\n",
      "opt_tsr\n",
      "sea_depth\n",
      "shear_exponent\n",
      "soiling_losses\n",
      "thrust_coefficient\n",
      "weibull_k\n",
      "wind_speed_50m\n",
      "\n",
      "Setup: Check of root problem complete.\n",
      "##############################################\n",
      "\n"
     ]
    },
    {
     "data": {
      "text/plain": [
       "{'cycles': [],\n",
       " 'dangling_params': ['RNA_mass',\n",
       "  'air_density',\n",
       "  'altitude',\n",
       "  'array_losses',\n",
       "  'availability',\n",
       "  'blade_number',\n",
       "  'cut_in_wind_speed',\n",
       "  'cut_out_wind_speed',\n",
       "  'max_efficiency',\n",
       "  'max_power_coefficient',\n",
       "  'max_tip_speed',\n",
       "  'multiplier',\n",
       "  'opt_tsr',\n",
       "  'sea_depth',\n",
       "  'shear_exponent',\n",
       "  'soiling_losses',\n",
       "  'thrust_coefficient',\n",
       "  'weibull_k',\n",
       "  'wind_speed_50m'],\n",
       " 'driver_issues': {},\n",
       " 'mode': ('fwd', 'fwd'),\n",
       " 'mpi': [],\n",
       " 'no_connect_comps': [],\n",
       " 'no_unknown_comps': [],\n",
       " 'out_of_order': [],\n",
       " 'recorders': [],\n",
       " 'relevant_pbos': [],\n",
       " 'solver_issues': None,\n",
       " 'ubcs': [],\n",
       " 'unmarked_pbos': []}"
      ]
     },
     "execution_count": 17,
     "metadata": {},
     "output_type": "execute_result"
    }
   ],
   "source": [
    "# openmdao example of execution\n",
    "root = Group()\n",
    "root.add('desvars',IndepVarComp([('machine_rating',5000.0),\n",
    "                                 ('rotor_diameter', 126.0),\n",
    "                                 ('hub_height', 90.0),\n",
    "                                 ('turbine_number', 100.0),\n",
    "                                 ('year', 2009.0),\n",
    "                                 ('month',12.0),\n",
    "                                 ]),promotes=['*'])\n",
    "root.add('bos_csm_test', FUSED_OpenMDAO(bos_csm_fused()), promotes=['*'])\n",
    "root.add('tcc_csm_test', FUSED_OpenMDAO(tcc_csm_fused()), promotes=['*'])\n",
    "root.add('fin_csm_test', FUSED_OpenMDAO(fin_csm_fused()), promotes=['*'])\n",
    "root.add('bos_opex_test', FUSED_OpenMDAO(opex_csm_fused()), promotes=['*'])\n",
    "root.add('aep_test', FUSED_OpenMDAO(aep_csm_fused()), promotes=['*'])\n",
    "prob = Problem(root)\n",
    "prob.setup()"
   ]
  },
  {
   "cell_type": "markdown",
   "metadata": {},
   "source": [
    "The NREL CSM relies on on a large number of wind turbine and plant parameters including overall wind turbine configuration, rotor, nacelle and tower options as well as plant characteristics including the number of turbines, wind resource characteristics and financial parameters."
   ]
  },
  {
   "cell_type": "code",
   "execution_count": 18,
   "metadata": {
    "collapsed": true
   },
   "outputs": [],
   "source": [
    "# set inputs\n",
    "# simple test of module\n",
    "# Turbine inputs\n",
    "prob['rotor_diameter'] = 126.0\n",
    "prob['blade_number'] = 3\n",
    "prob['hub_height'] = 90.0    \n",
    "prob['machine_rating'] = 5000.0\n",
    "\n",
    "# Rotor force calculations for nacelle inputs\n",
    "maxTipSpd = 80.0\n",
    "maxEfficiency = 0.90201\n",
    "ratedWindSpd = 11.5064\n",
    "thrustCoeff = 0.50\n",
    "airDensity = 1.225\n",
    "\n",
    "ratedHubPower  = prob['machine_rating'] / maxEfficiency \n",
    "rotorSpeed     = (maxTipSpd/(0.5*prob['rotor_diameter'])) * (60.0 / (2*np.pi))\n",
    "prob['rotor_thrust']  = airDensity * thrustCoeff * np.pi * prob['rotor_diameter']**2 * (ratedWindSpd**2) / 8\n",
    "prob['rotor_torque'] = ratedHubPower/(rotorSpeed*(np.pi/30))*1000\n",
    "\n",
    "prob['year'] = 2009\n",
    "prob['month'] = 12\n",
    "\n",
    "# AEP inputs\n",
    "prob['max_tip_speed'] = 80.0 #Float(units = 'm/s', iotype='in', desc= 'maximum allowable tip speed for the rotor')\n",
    "prob['max_power_coefficient'] = 0.488 #Float(iotype='in', desc= 'maximum power coefficient of rotor for operation in region 2')\n",
    "prob['opt_tsr'] = 7.525 #Float(iotype='in', desc= 'optimum tip speed ratio for operation in region 2')\n",
    "prob['cut_in_wind_speed'] = 3.0 #Float(units = 'm/s', iotype='in', desc= 'cut in wind speed for the wind turbine')\n",
    "prob['cut_out_wind_speed'] = 25.0 #Float(units = 'm/s', iotype='in', desc= 'cut out wind speed for the wind turbine')\n",
    "prob['altitude'] = 0.0 #Float(units = 'm', iotype='in', desc= 'altitude of wind plant')\n",
    "prob['air_density'] = 0 #Float(units = 'kg / (m * m * m)', iotype='in', desc= 'air density at wind plant site')  # default air density value is 0.0 - forces aero csm to calculate air density in model\n",
    "prob['max_efficiency'] = 0.902 #Float(iotype='in', desc = 'maximum efficiency of rotor and drivetrain - at rated power')\n",
    "prob['thrust_coefficient'] = 0.5 #Float(iotype='in', desc='thrust coefficient at rated power')\n",
    "prob['soiling_losses'] = 0.0\n",
    "prob['array_losses'] = 0.1\n",
    "prob['availability'] = 0.941\n",
    "prob['turbine_number'] = 100\n",
    "prob['shear_exponent'] = 0.1\n",
    "prob['wind_speed_50m'] = 8.02\n",
    "prob['weibull_k']= 2.15\n",
    "\n",
    "# Finance, BOS and OPEX inputs\n",
    "prob['RNA_mass'] = 256634.5 \n",
    "prob['sea_depth'] = 20.0\n",
    "prob['multiplier'] = 1.0\n"
   ]
  },
  {
   "cell_type": "markdown",
   "metadata": {},
   "source": [
    "We can now simulate the overall wind plant cost of energy."
   ]
  },
  {
   "cell_type": "code",
   "execution_count": 19,
   "metadata": {},
   "outputs": [],
   "source": [
    "prob.run()"
   ]
  },
  {
   "cell_type": "markdown",
   "metadata": {},
   "source": [
    "We then print out the resulting cost values:"
   ]
  },
  {
   "cell_type": "code",
   "execution_count": 20,
   "metadata": {},
   "outputs": [
    {
     "name": "stdout",
     "output_type": "stream",
     "text": [
      "Overall cost of energy for an offshore wind plant with 100 NREL 5 MW turbines\n",
      "machine_rating 5000.0\n",
      "rotor_diameter 126.0\n",
      "hub_height 90.0\n",
      "turbine_number 100.0\n",
      "year 2009.0\n",
      "month 12.0\n",
      "bos_costs 764764734.402\n",
      "bos_breakdown_development_costs 19816413.6622\n",
      "bos_breakdown_preparation_and_staging_costs 14155377.3927\n",
      "bos_breakdown_transportation_costs 149852024.568\n",
      "bos_breakdown_foundation_and_substructure_costs 212330660.89\n",
      "bos_breakdown_electrical_costs 214524224.858\n",
      "bos_breakdown_assembly_and_installation_costs 70776886.9634\n",
      "bos_breakdown_soft_costs 0.0\n",
      "bos_breakdown_other_costs 83309146.0675\n",
      "turbine_cost 5383539.544\n",
      "rotor_cost 1133729.26814\n",
      "rotor_mass 87595.9193358\n",
      "turbine_mass 747093.461862\n",
      "coe 0.120210380123\n",
      "lcoe 0.112342941751\n",
      "avg_annual_opex 45280723.0581\n",
      "opex_breakdown_preventative_opex 34279801.5634\n",
      "opex_breakdown_corrective_opex 9104838.70968\n",
      "opex_breakdown_lease_opex 1896082.78501\n",
      "opex_breakdown_other_opex 0.0\n",
      "net_aep 1600128912.66\n",
      "rated_wind_speed 11.5064484118\n",
      "rated_rotor_speed 12.1260909022\n",
      "rotor_thrust 500934.461731\n",
      "rotor_torque 4365299.33481\n",
      "gross_aep 1889395339.07\n",
      "capacity_factor 36.5326235766\n"
     ]
    }
   ],
   "source": [
    "print(\"Overall cost of energy for an offshore wind plant with 100 NREL 5 MW turbines\")\n",
    "for io in root.unknowns:\n",
    "    print(io + ' ' + str(root.unknowns[io]))"
   ]
  },
  {
   "cell_type": "markdown",
   "metadata": {},
   "source": [
    "###### A land-based project example"
   ]
  },
  {
   "cell_type": "markdown",
   "metadata": {},
   "source": [
    "Now we can adjust input values to explore the impacts on LCOE.  We began with the NREL 5 MW reference turbine at an offshore site with a sea-depth of 20 m. Let's adjust the inputs to use the same turbine in a land-based project.  To do this, two parameters need to be adjusted: the boolean flag for an offshore project needs to be set to false, and the sea-depth should now be 0 m."
   ]
  },
  {
   "cell_type": "code",
   "execution_count": 21,
   "metadata": {
    "collapsed": true
   },
   "outputs": [],
   "source": [
    "prob['sea_depth'] = 0.0"
   ]
  },
  {
   "cell_type": "markdown",
   "metadata": {},
   "source": [
    "Now we can re-run the assembly and print the new results."
   ]
  },
  {
   "cell_type": "code",
   "execution_count": 22,
   "metadata": {},
   "outputs": [
    {
     "name": "stdout",
     "output_type": "stream",
     "text": [
      "Overall cost of energy for an offshore wind plant with 100 NREL 5 MW turbines\n",
      "machine_rating 5000.0\n",
      "rotor_diameter 126.0\n",
      "hub_height 90.0\n",
      "turbine_number 100.0\n",
      "year 2009.0\n",
      "month 12.0\n",
      "bos_costs 308453311.95\n",
      "bos_breakdown_development_costs 13868377.0651\n",
      "bos_breakdown_preparation_and_staging_costs 39936721.9216\n",
      "bos_breakdown_transportation_costs 149852024.568\n",
      "bos_breakdown_foundation_and_substructure_costs 12077370.8762\n",
      "bos_breakdown_electrical_costs 76514079.7213\n",
      "bos_breakdown_assembly_and_installation_costs 16204737.7981\n",
      "bos_breakdown_soft_costs 0.0\n",
      "bos_breakdown_other_costs 0.0\n",
      "turbine_cost 5307582.34094\n",
      "rotor_cost 1121386.83519\n",
      "rotor_mass 87595.9193358\n",
      "turbine_mass 747093.461862\n",
      "coe 0.0702776033197\n",
      "lcoe 0.0634748312694\n",
      "avg_annual_opex 19579732.4312\n",
      "opex_breakdown_preventative_opex 11997930.5472\n",
      "opex_breakdown_corrective_opex 5730692.59962\n",
      "opex_breakdown_lease_opex 1851109.28442\n",
      "opex_breakdown_other_opex 0.0\n",
      "net_aep 1600128912.66\n",
      "rated_wind_speed 11.5064484118\n",
      "rated_rotor_speed 12.1260909022\n",
      "rotor_thrust 500934.461731\n",
      "rotor_torque 4365299.33481\n",
      "gross_aep 1889395339.07\n",
      "capacity_factor 36.5326235766\n"
     ]
    }
   ],
   "source": [
    "prob.run()\n",
    "\n",
    "print(\"Overall cost of energy for an offshore wind plant with 100 NREL 5 MW turbines\")\n",
    "for io in root.unknowns:\n",
    "    print(io + ' ' + str(root.unknowns[io]))"
   ]
  },
  {
   "cell_type": "markdown",
   "metadata": {},
   "source": [
    "Note that the cost of energy has significantly reduced!  Since we did not change the wind resource or turbine power curve , the AEP is the same while the costs have been reduced.  \n",
    "\n",
    "The turbine cost is about 5% less since there is a mark-up in the cost model for an offshore turbine.  The balance of station costs and operational expenditures, though, are about half of the offshore costs which is fairly representative of actual projects.  The costs for offshore projects to access the plants, support structures for the turbines, the costs to install them, and other costs are substantially higher than for land-based projects."
   ]
  },
  {
   "cell_type": "markdown",
   "metadata": {},
   "source": [
    "###### A more realistic land-based example"
   ]
  },
  {
   "cell_type": "markdown",
   "metadata": {},
   "source": [
    "Of course, the NREL 5 MW Class I reference turbine is a bulky machine and not likely to be used in a real wind project.  Similarly, using our wind resource is quite high for most land-based applications.  Let's change our turbine specifications to match a turbine meant for land-based applications; say an IEC class III machine and similar resource.  Review the inputs above and adjust those that need to be adjusted for a 2 MW machine at a low-wind speed site. \n",
    "\n",
    "(Hint you can cut and paste all the inputs from above and delete those that you aren't adjusting)."
   ]
  },
  {
   "cell_type": "code",
   "execution_count": 23,
   "metadata": {
    "collapsed": true
   },
   "outputs": [],
   "source": [
    "# 2 MW turbine specifications and plant attributes\n",
    "# Turbine inputs\n",
    "prob['rotor_diameter'] = 120.0\n",
    "prob['blade_number'] = 3\n",
    "prob['hub_height'] = 90.0    \n",
    "prob['machine_rating'] = 2300.0\n",
    "\n",
    "# Rotor force calculations for nacelle inputs\n",
    "maxTipSpd = 80.0\n",
    "maxEfficiency = 0.90201\n",
    "ratedWindSpd = 11.5064\n",
    "thrustCoeff = 0.50\n",
    "airDensity = 1.225\n",
    "\n",
    "ratedHubPower  = prob['machine_rating'] / maxEfficiency \n",
    "rotorSpeed     = (maxTipSpd/(0.5*prob['rotor_diameter'])) * (60.0 / (2*np.pi))\n",
    "prob['rotor_thrust']  = airDensity * thrustCoeff * np.pi * prob['rotor_diameter']**2 * (ratedWindSpd**2) / 8\n",
    "prob['rotor_torque'] = ratedHubPower/(rotorSpeed*(np.pi/30))*1000\n",
    "\n",
    "# AEP inputs\n",
    "prob['max_tip_speed'] = 80.0 #Float(units = 'm/s', iotype='in', desc= 'maximum allowable tip speed for the rotor')\n",
    "prob['availability'] = 0.97\n",
    "prob['turbine_number'] = 100\n",
    "prob['shear_exponent'] = 0.143\n",
    "prob['wind_speed_50m'] = 6.5\n",
    "prob['weibull_k']= 2.1\n"
   ]
  },
  {
   "cell_type": "markdown",
   "metadata": {},
   "source": [
    "Now we can re-run the assembly and print the results"
   ]
  },
  {
   "cell_type": "code",
   "execution_count": 24,
   "metadata": {},
   "outputs": [
    {
     "name": "stdout",
     "output_type": "stream",
     "text": [
      "Overall cost of energy for an offshore wind plant with 100 NREL 5 MW turbines\n",
      "machine_rating 2300.0\n",
      "rotor_diameter 120.0\n",
      "hub_height 90.0\n",
      "turbine_number 100.0\n",
      "year 2009.0\n",
      "month 12.0\n",
      "bos_costs 94854288.9329\n",
      "bos_breakdown_development_costs 5702191.69485\n",
      "bos_breakdown_preparation_and_staging_costs 17074041.061\n",
      "bos_breakdown_transportation_costs 13679987.6115\n",
      "bos_breakdown_foundation_and_substructure_costs 11610853.9685\n",
      "bos_breakdown_electrical_costs 31484296.7453\n",
      "bos_breakdown_assembly_and_installation_costs 15302917.8518\n",
      "bos_breakdown_soft_costs 0.0\n",
      "bos_breakdown_other_costs 0.0\n",
      "turbine_cost 3673717.25328\n",
      "rotor_cost 985514.903446\n",
      "rotor_mass 78322.9612083\n",
      "turbine_mass 612421.926102\n",
      "coe 0.0767400316867\n",
      "lcoe 0.0687397334778\n",
      "avg_annual_opex 9786203.23687\n",
      "opex_breakdown_preventative_opex 6138895.17304\n",
      "opex_breakdown_corrective_opex 2700164.23712\n",
      "opex_breakdown_lease_opex 947143.826698\n",
      "opex_breakdown_other_opex 0.0\n",
      "net_aep 799306988.873\n",
      "rated_wind_speed 9.32728001239\n",
      "rated_rotor_speed 12.7323954474\n",
      "rotor_thrust 298558.714478\n",
      "rotor_torque 1912416.85144\n",
      "gross_aep 915586470.645\n",
      "capacity_factor 39.6717782843\n"
     ]
    }
   ],
   "source": [
    "prob.run()\n",
    "\n",
    "print(\"Overall cost of energy for an offshore wind plant with 100 NREL 5 MW turbines\")\n",
    "for io in root.unknowns:\n",
    "    print(io + ' ' + str(root.unknowns[io]))"
   ]
  },
  {
   "cell_type": "markdown",
   "metadata": {},
   "source": [
    "Our cost of energy has improved further; note that our turbine (based on the Siemens SWT-2.3-120) has a rotor diameter nearly the same as our offshore 5 MW turbine.  Low-wind speed technology continues to chase larger rotor diameters relative to rated power (or lower specific powers) so that they can have a higher capacity factor which ultimately allows wind projects to be more profitable and economically feasible even at sites with low wind speeds.\n",
    "\n",
    "What was our capacity factor for the 5 MW turbine project versus our new 2 MW turbine project?  We didn't print out our capacity factor before and we've changed the turbine.  Lucky for us, ipython will let us update this without too much headache! \n",
    "\n",
    "(Hint add capacity factor as a printed output in both cases and reexcute the print statement.  Note you will have to reexcute the earlier input settings in the first case or you will be running the lcoe assembly with our new inputs settings)."
   ]
  },
  {
   "cell_type": "code",
   "execution_count": 25,
   "metadata": {},
   "outputs": [
    {
     "name": "stdout",
     "output_type": "stream",
     "text": [
      "Resulting capacity factor:\n",
      "39.6717782843\n"
     ]
    }
   ],
   "source": [
    "print(\"Resulting capacity factor:\")\n",
    "print(root.unknowns['capacity_factor'])"
   ]
  },
  {
   "cell_type": "markdown",
   "metadata": {},
   "source": [
    "As we can see, the capacity factor for the turbine is much higher for our 2 MW turbine project versus the 5 MW turbine project despite the significantly higher wind resource is the former case.  This is due to the the low-wind speed technology / low specific power / high rotor diameter to power rating ratio.  This simple cost and scaling model (though based on somewhat outdated technology) is great for exploring these types of questions without much computational expense.\n",
    "\n",
    "In the next tutorial, we will apply more sophisticated analyses to this same model to demonstrate the capabilities of OpenMDAO and DAKOTA for MDAO analysis."
   ]
  },
  {
   "cell_type": "code",
   "execution_count": null,
   "metadata": {
    "collapsed": true
   },
   "outputs": [],
   "source": []
  }
 ],
 "metadata": {
  "kernelspec": {
   "display_name": "Python 3",
   "language": "python",
   "name": "python3"
  },
  "language_info": {
   "codemirror_mode": {
    "name": "ipython",
    "version": 3
   },
   "file_extension": ".py",
   "mimetype": "text/x-python",
   "name": "python",
   "nbconvert_exporter": "python",
   "pygments_lexer": "ipython3",
   "version": "3.6.1"
  }
 },
 "nbformat": 4,
 "nbformat_minor": 1
}
