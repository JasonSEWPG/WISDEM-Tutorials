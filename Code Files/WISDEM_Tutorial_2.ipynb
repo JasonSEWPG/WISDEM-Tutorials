{
 "cells": [
  {
   "cell_type": "markdown",
   "metadata": {},
   "source": [
    "# WISDEM Tutorial 2"
   ]
  },
  {
   "cell_type": "markdown",
   "metadata": {},
   "source": [
    "In this tutorial, we will explore using some of OpenMDAO's MDAO capabilities with our relatively simple wind energy system model (the NREL cost and Scaling model).\n",
    "\n",
    "First navigate to your folder with your WISDEM code."
   ]
  },
  {
   "cell_type": "code",
   "execution_count": 125,
   "metadata": {},
   "outputs": [
    {
     "name": "stdout",
     "output_type": "stream",
     "text": [
      "C:\\SystemsEng\\WISDEM Tutorial\\WISDEM\\Code Files 2\n"
     ]
    }
   ],
   "source": [
    "cd C:\\SystemsEng\\WISDEM Tutorial\\WISDEM\\Code Files 2"
   ]
  },
  {
   "cell_type": "markdown",
   "metadata": {},
   "source": [
    "The first step again is to import the WISDEM lcoe_csm_assembly model and initialize it with a set of turbine and project level parameters."
   ]
  },
  {
   "cell_type": "code",
   "execution_count": 126,
   "metadata": {},
   "outputs": [
    {
     "name": "stdout",
     "output_type": "stream",
     "text": [
      "##############################################\n",
      "Setup: Checking root problem for potential issues...\n",
      "\n",
      "No recorders have been specified, so no data will be saved.\n",
      "\n",
      "The following parameters have no associated unknowns:\n",
      "RNA_mass\n",
      "air_density\n",
      "altitude\n",
      "array_losses\n",
      "availability\n",
      "blade_number\n",
      "cut_in_wind_speed\n",
      "cut_out_wind_speed\n",
      "max_efficiency\n",
      "max_power_coefficient\n",
      "max_tip_speed\n",
      "multiplier\n",
      "opt_tsr\n",
      "sea_depth\n",
      "shear_exponent\n",
      "soiling_losses\n",
      "thrust_coefficient\n",
      "weibull_k\n",
      "wind_speed_50m\n",
      "\n",
      "Setup: Check of root problem complete.\n",
      "##############################################\n",
      "\n"
     ]
    }
   ],
   "source": [
    "from openmdao.api import IndepVarComp, Component, Problem, Group\n",
    "from fused_wind import create_interface , FUSED_Object , FUSED_OpenMDAO , set_output, set_input, fusedvar\n",
    "\n",
    "# NREL cost and scaling model sub-assemblies\n",
    "from nrel_csm_tcc import tcc_csm_fused\n",
    "from nrel_csm_bos import bos_csm_fused\n",
    "from nrel_csm_opex  import opex_csm_fused\n",
    "from nrel_csm_fin import fin_csm_fused\n",
    "from nrel_csm_aep import aep_csm_fused\n",
    "\n",
    "import numpy as np\n",
    "\n",
    "# openmdao example of execution\n",
    "root = Group()\n",
    "root.add('desvars',IndepVarComp([('machine_rating',5000.0),\n",
    "                                                                 ('rotor_diameter', 126.0),\n",
    "                                                                 ('hub_height', 90.0),\n",
    "                                                                 ('turbine_number', 100.0),\n",
    "                                                                 ('year', 2009.0),\n",
    "                                                                 ('month',12.0),\n",
    "                                                                 ]),promotes=['*'])\n",
    "root.add('bos_csm_test', FUSED_OpenMDAO(bos_csm_fused()), promotes=['*'])\n",
    "root.add('tcc_csm_test', FUSED_OpenMDAO(tcc_csm_fused()), promotes=['*'])\n",
    "root.add('fin_csm_test', FUSED_OpenMDAO(fin_csm_fused()), promotes=['*'])\n",
    "root.add('bos_opex_test', FUSED_OpenMDAO(opex_csm_fused()), promotes=['*'])\n",
    "root.add('aep_test', FUSED_OpenMDAO(aep_csm_fused()), promotes=['*'])\n",
    "# Tell the whole model to finite difference\n",
    "root.deriv_options['type'] = 'fd'\n",
    "\n",
    "prob = Problem(root)\n",
    "prob.setup()\n",
    "\n",
    "\n",
    "# set inputs\n",
    "# simple test of module\n",
    "# Turbine inputs\n",
    "prob['rotor_diameter'] = 126.0\n",
    "prob['blade_number'] = 3\n",
    "prob['hub_height'] = 90.0    \n",
    "prob['machine_rating'] = 5000.0\n",
    "\n",
    "# Rotor force calculations for nacelle inputs\n",
    "maxTipSpd = 80.0\n",
    "maxEfficiency = 0.90201\n",
    "ratedWindSpd = 11.5064\n",
    "thrustCoeff = 0.50\n",
    "airDensity = 1.225\n",
    "\n",
    "ratedHubPower  = prob['machine_rating'] / maxEfficiency \n",
    "rotorSpeed     = (maxTipSpd/(0.5*prob['rotor_diameter'])) * (60.0 / (2*np.pi))\n",
    "prob['rotor_thrust']  = airDensity * thrustCoeff * np.pi * prob['rotor_diameter']**2 * (ratedWindSpd**2) / 8\n",
    "prob['rotor_torque'] = ratedHubPower/(rotorSpeed*(np.pi/30))*1000\n",
    "\n",
    "prob['year'] = 2009\n",
    "prob['month'] = 12\n",
    "\n",
    "# AEP inputs\n",
    "prob['max_tip_speed'] = 80.0 #Float(units = 'm/s', iotype='in', desc= 'maximum allowable tip speed for the rotor')\n",
    "prob['max_power_coefficient'] = 0.488 #Float(iotype='in', desc= 'maximum power coefficient of rotor for operation in region 2')\n",
    "prob['opt_tsr'] = 7.525 #Float(iotype='in', desc= 'optimum tip speed ratio for operation in region 2')\n",
    "prob['cut_in_wind_speed'] = 3.0 #Float(units = 'm/s', iotype='in', desc= 'cut in wind speed for the wind turbine')\n",
    "prob['cut_out_wind_speed'] = 25.0 #Float(units = 'm/s', iotype='in', desc= 'cut out wind speed for the wind turbine')\n",
    "prob['altitude'] = 0.0 #Float(units = 'm', iotype='in', desc= 'altitude of wind plant')\n",
    "prob['air_density'] = 0 #Float(units = 'kg / (m * m * m)', iotype='in', desc= 'air density at wind plant site')  # default air density value is 0.0 - forces aero csm to calculate air density in model\n",
    "prob['max_efficiency'] = 0.902 #Float(iotype='in', desc = 'maximum efficiency of rotor and drivetrain - at rated power')\n",
    "prob['thrust_coefficient'] = 0.5 #Float(iotype='in', desc='thrust coefficient at rated power')\n",
    "prob['soiling_losses'] = 0.0\n",
    "prob['array_losses'] = 0.1\n",
    "prob['availability'] = 0.941\n",
    "prob['turbine_number'] = 100\n",
    "prob['shear_exponent'] = 0.1\n",
    "prob['wind_speed_50m'] = 8.02\n",
    "prob['weibull_k']= 2.15\n",
    "\n",
    "# Finance, BOS and OPEX inputs\n",
    "prob['RNA_mass'] = 256634.5 # RNA mass is not used in this simple model\n",
    "prob['sea_depth'] = 20.0\n",
    "prob['multiplier'] = 1.0\n"
   ]
  },
  {
   "cell_type": "markdown",
   "metadata": {},
   "source": [
    "Let's just make sure everything runs properly by running the model and comparing the results to when we ran them before."
   ]
  },
  {
   "cell_type": "code",
   "execution_count": 127,
   "metadata": {},
   "outputs": [
    {
     "name": "stdout",
     "output_type": "stream",
     "text": [
      "Overall cost of energy for an offshore wind plant with 100 NREL 5 MW turbines\n",
      "machine_rating 5000.0\n",
      "rotor_diameter 126.0\n",
      "hub_height 90.0\n",
      "turbine_number 100.0\n",
      "year 2009.0\n",
      "month 12.0\n",
      "bos_costs 764764734.402\n",
      "bos_breakdown_development_costs 19816413.6622\n",
      "bos_breakdown_preparation_and_staging_costs 14155377.3927\n",
      "bos_breakdown_transportation_costs 149852024.568\n",
      "bos_breakdown_foundation_and_substructure_costs 212330660.89\n",
      "bos_breakdown_electrical_costs 214524224.858\n",
      "bos_breakdown_assembly_and_installation_costs 70776886.9634\n",
      "bos_breakdown_soft_costs 0.0\n",
      "bos_breakdown_other_costs 83309146.0675\n",
      "turbine_cost 5383539.544\n",
      "rotor_cost 1133729.26814\n",
      "rotor_mass 87595.9193358\n",
      "turbine_mass 747093.461862\n",
      "coe 0.120210380123\n",
      "lcoe 0.112342941751\n",
      "avg_annual_opex 45280723.0581\n",
      "opex_breakdown_preventative_opex 34279801.5634\n",
      "opex_breakdown_corrective_opex 9104838.70968\n",
      "opex_breakdown_lease_opex 1896082.78501\n",
      "opex_breakdown_other_opex 0.0\n",
      "net_aep 1600128912.66\n",
      "rated_wind_speed 11.5064484118\n",
      "rated_rotor_speed 12.1260909022\n",
      "rotor_thrust 500934.461731\n",
      "rotor_torque 4365299.33481\n",
      "gross_aep 1889395339.07\n",
      "capacity_factor 36.5326235766\n"
     ]
    }
   ],
   "source": [
    "prob.run()\n",
    "print(\"Overall cost of energy for an offshore wind plant with 100 NREL 5 MW turbines\")\n",
    "for io in root.unknowns:\n",
    "    print(io + ' ' + str(root.unknowns[io]))"
   ]
  },
  {
   "cell_type": "markdown",
   "metadata": {},
   "source": [
    "The results are the same so we are ready to test out an optimization.  Let's return to our land-based site in the US.  We found an improved LCOE when we went from our 5 MW Class 1 turbine in a high-wind speed site to a 2 MW Class III turbine in a low-wind speed site.  But, was that 2.3 MW Siemens turbine the best turbine for the site?  \n",
    "\n",
    "With this simple model, we could easily do some parameter sweeps over the key turbine variables to find out.  But even varying 3 or 4 parameters at once (e.g. hub height, rotor diameter, and rated power) could be tedious and involve a large design space.  Let's try an optimization to speed things up a bit.\n",
    "\n"
   ]
  },
  {
   "cell_type": "markdown",
   "metadata": {},
   "source": [
    "###### Optimal turbine selection for a given wind site."
   ]
  },
  {
   "cell_type": "markdown",
   "metadata": {},
   "source": [
    "First, let's set up the site conditions to be the same as before for the low-wind speed site from the first tutorial; and let's start with our SWT-2.3-120 turbine from before as well."
   ]
  },
  {
   "cell_type": "code",
   "execution_count": 128,
   "metadata": {
    "collapsed": true
   },
   "outputs": [],
   "source": [
    "# 2 MW turbine specifications and plant attributes\n",
    "# Turbine inputs\n",
    "prob['rotor_diameter'] = 120.0\n",
    "prob['blade_number'] = 3\n",
    "prob['hub_height'] = 90.0    \n",
    "prob['machine_rating'] = 2300.0\n",
    "\n",
    "# Rotor force calculations for nacelle inputs\n",
    "maxTipSpd = 80.0\n",
    "maxEfficiency = 0.90201\n",
    "ratedWindSpd = 11.5064\n",
    "thrustCoeff = 0.50\n",
    "airDensity = 1.225\n",
    "\n",
    "ratedHubPower  = prob['machine_rating'] / maxEfficiency \n",
    "rotorSpeed     = (maxTipSpd/(0.5*prob['rotor_diameter'])) * (60.0 / (2*np.pi))\n",
    "prob['rotor_thrust']  = airDensity * thrustCoeff * np.pi * prob['rotor_diameter']**2 * (ratedWindSpd**2) / 8\n",
    "prob['rotor_torque'] = ratedHubPower/(rotorSpeed*(np.pi/30))*1000\n",
    "\n",
    "# AEP inputs\n",
    "prob['max_tip_speed'] = 80.0 #Float(units = 'm/s', iotype='in', desc= 'maximum allowable tip speed for the rotor')\n",
    "prob['availability'] = 0.97\n",
    "prob['turbine_number'] = 100\n",
    "prob['shear_exponent'] = 0.143\n",
    "prob['wind_speed_50m'] = 6.5\n",
    "prob['weibull_k']= 2.1\n",
    "prob['sea_depth']=0.0"
   ]
  },
  {
   "cell_type": "markdown",
   "metadata": {},
   "source": [
    "And let's re-run the analysis again, just to double check:"
   ]
  },
  {
   "cell_type": "code",
   "execution_count": 129,
   "metadata": {},
   "outputs": [
    {
     "name": "stdout",
     "output_type": "stream",
     "text": [
      "Overall cost of energy for an offshore wind plant with 100 NREL 5 MW turbines\n",
      "machine_rating 2300.0\n",
      "rotor_diameter 120.0\n",
      "hub_height 90.0\n",
      "turbine_number 100.0\n",
      "year 2009.0\n",
      "month 12.0\n",
      "bos_costs 94854288.9329\n",
      "bos_breakdown_development_costs 5702191.69485\n",
      "bos_breakdown_preparation_and_staging_costs 17074041.061\n",
      "bos_breakdown_transportation_costs 13679987.6115\n",
      "bos_breakdown_foundation_and_substructure_costs 11610853.9685\n",
      "bos_breakdown_electrical_costs 31484296.7453\n",
      "bos_breakdown_assembly_and_installation_costs 15302917.8518\n",
      "bos_breakdown_soft_costs 0.0\n",
      "bos_breakdown_other_costs 0.0\n",
      "turbine_cost 3628565.51824\n",
      "rotor_cost 974579.402682\n",
      "rotor_mass 78322.9612083\n",
      "turbine_mass 612421.926102\n",
      "coe 0.0758879270859\n",
      "lcoe 0.067897456315\n",
      "avg_annual_opex 9554082.66673\n",
      "opex_breakdown_preventative_opex 5993285.70499\n",
      "opex_breakdown_corrective_opex 2636118.59583\n",
      "opex_breakdown_lease_opex 924678.365913\n",
      "opex_breakdown_other_opex 0.0\n",
      "net_aep 799306988.873\n",
      "rated_wind_speed 9.32728001239\n",
      "rated_rotor_speed 12.7323954474\n",
      "rotor_thrust 298558.714478\n",
      "rotor_torque 1912416.85144\n",
      "gross_aep 915586470.645\n",
      "capacity_factor 39.6717782843\n"
     ]
    }
   ],
   "source": [
    "prob.run()\n",
    "\n",
    "print(\"Overall cost of energy for an offshore wind plant with 100 NREL 5 MW turbines\")\n",
    "for io in root.unknowns:\n",
    "    print(io + ' ' + str(root.unknowns[io]))"
   ]
  },
  {
   "cell_type": "markdown",
   "metadata": {},
   "source": [
    "Everything checks out!\n",
    "\n",
    "Now on to the optimization.  Firstly, we need to replace the driver that the LCOE model was using (the basic driver for any assembly just runs the assembly once) with an optimizer.  OpenMDAO has several built-in optimizers; there is also a \"pyOpt\" plug-in for OpenMDAO which gives you access to all the optimization algorithms in pyOpt (website).  To install pyOpt, (installation instructions).\n",
    "\n",
    "Let's use PyOpt's Cobyla optimizer for this analysis (describe cobyla).\n",
    "\n",
    "To use the Cobyla optimizer, we replace the driver with the pyOptDriver and specify the optimizer as Cobyla.  We can also set various options for the optimizer; the options are documented in the pyOpt documentation (website)."
   ]
  },
  {
   "cell_type": "code",
   "execution_count": 130,
   "metadata": {},
   "outputs": [],
   "source": [
    "from openmdao.api import ScipyOptimizer\n",
    "\n",
    "prob.driver = ScipyOptimizer()\n",
    "prob.driver.options['optimizer'] = 'COBYLA'"
   ]
  },
  {
   "cell_type": "markdown",
   "metadata": {},
   "source": [
    "Now we have to add our objective and design variables.  In this case, our overall goal is finding the lowest LCOE for the site by selecting the turbine that is the most appropriate.\n",
    "\n",
    "For a real site, this would of course involve a discrete choice by selecting the best turbine for the site from a set.  However, in this case let's consider an ideal world where we can continously vary the key turbine configuration parameters to get the best possible turbine and lowest possible LCOE.  Let's focus on the key turbine parameters of rated power, rotor diameter and hub height since these are the key inputs to this particular model.  We will keep the geared turbine as before and just vary these three turbine parameters.\n",
    "\n",
    "Let's add these parameters and objectives:"
   ]
  },
  {
   "cell_type": "code",
   "execution_count": 131,
   "metadata": {},
   "outputs": [],
   "source": [
    "# --- Objective ---\n",
    "prob.driver.add_objective('coe') # / 1e-3\n",
    "\n",
    "# --- Parameters ---\n",
    "prob.driver.add_desvar('rotor_diameter', lower=80.0, upper=150.0)\n",
    "prob.driver.add_desvar('machine_rating', lower=1000.0, upper=10000.0)\n",
    "prob.driver.add_desvar('hub_height', lower=70.0, upper=120.0)\n"
   ]
  },
  {
   "cell_type": "markdown",
   "metadata": {},
   "source": [
    "Normally we would then add constraints to the simulation; the upper and lower bounds on the design variables each act as a constraint so there are 6 total constraints in this optimization.  This model is vary simple with a small number of parameters so we will not add any further constraints.  However, as we will see, the accuracy of the results will be questionable.\n",
    "\n",
    "Now let's try to run the optimization:"
   ]
  },
  {
   "cell_type": "code",
   "execution_count": 132,
   "metadata": {},
   "outputs": [
    {
     "name": "stdout",
     "output_type": "stream",
     "text": [
      "##############################################\n",
      "Setup: Checking root problem for potential issues...\n",
      "\n",
      "No recorders have been specified, so no data will be saved.\n",
      "\n",
      "The following parameters have no associated unknowns:\n",
      "RNA_mass\n",
      "air_density\n",
      "altitude\n",
      "array_losses\n",
      "availability\n",
      "blade_number\n",
      "cut_in_wind_speed\n",
      "cut_out_wind_speed\n",
      "max_efficiency\n",
      "max_power_coefficient\n",
      "max_tip_speed\n",
      "multiplier\n",
      "opt_tsr\n",
      "sea_depth\n",
      "shear_exponent\n",
      "soiling_losses\n",
      "thrust_coefficient\n",
      "weibull_k\n",
      "wind_speed_50m\n",
      "\n",
      "Setup: Check of root problem complete.\n",
      "##############################################\n",
      "\n",
      "Overall cost of energy for an offshore wind plant with 100 NREL 5 MW turbines\n",
      "aep_test.machine_rating 0.0\n",
      "aep_test.rotor_diameter 0.0\n",
      "aep_test.hub_height 0.0\n",
      "aep_test.turbine_number 0.0\n",
      "bos_opex_test.machine_rating 0.0\n",
      "bos_opex_test.turbine_number 0.0\n",
      "bos_opex_test.year 0.0\n",
      "bos_opex_test.month 0.0\n",
      "bos_opex_test.net_aep 0.0\n",
      "tcc_csm_test.machine_rating 0.0\n",
      "tcc_csm_test.rotor_diameter 0.0\n",
      "tcc_csm_test.hub_height 0.0\n",
      "tcc_csm_test.rotor_thrust 0.0\n",
      "tcc_csm_test.rotor_torque 0.0\n",
      "tcc_csm_test.year 0.0\n",
      "tcc_csm_test.month 0.0\n",
      "bos_csm_test.machine_rating 0.0\n",
      "bos_csm_test.rotor_diameter 0.0\n",
      "bos_csm_test.hub_height 0.0\n",
      "bos_csm_test.turbine_cost 0.0\n",
      "bos_csm_test.turbine_number 0.0\n",
      "bos_csm_test.year 0.0\n",
      "bos_csm_test.month 0.0\n",
      "fin_csm_test.turbine_cost 0.0\n",
      "fin_csm_test.turbine_number 0.0\n",
      "fin_csm_test.bos_costs 0.0\n",
      "fin_csm_test.avg_annual_opex 0.0\n",
      "fin_csm_test.net_aep 0.0\n",
      "Optimization Complete\n",
      "-----------------------------------\n"
     ]
    }
   ],
   "source": [
    "prob.setup()\n",
    "\n",
    "# Set design variables\n",
    "prob['rotor_diameter'] = 120.0\n",
    "prob['machine_rating'] = 2300.0\n",
    "prob['hub_height'] = 90.0\n",
    "\n",
    "# set other input variables\n",
    "# simple test of module\n",
    "# Turbine inputs\n",
    "prob['blade_number'] = 3\n",
    "\n",
    "# Rotor force calculations for nacelle inputs\n",
    "maxTipSpd = 80.0\n",
    "maxEfficiency = 0.90201\n",
    "ratedWindSpd = 11.5064\n",
    "thrustCoeff = 0.50\n",
    "airDensity = 1.225\n",
    "\n",
    "ratedHubPower  = prob['machine_rating'] / maxEfficiency \n",
    "rotorSpeed     = (maxTipSpd/(0.5*prob['rotor_diameter'])) * (60.0 / (2*np.pi))\n",
    "prob['rotor_thrust']  = airDensity * thrustCoeff * np.pi * prob['rotor_diameter']**2 * (ratedWindSpd**2) / 8\n",
    "prob['rotor_torque'] = ratedHubPower/(rotorSpeed*(np.pi/30))*1000\n",
    "\n",
    "prob['year'] = 2009\n",
    "prob['month'] = 12\n",
    "\n",
    "# AEP inputs\n",
    "prob['max_tip_speed'] = 80.0 #Float(units = 'm/s', iotype='in', desc= 'maximum allowable tip speed for the rotor')\n",
    "prob['max_power_coefficient'] = 0.488 #Float(iotype='in', desc= 'maximum power coefficient of rotor for operation in region 2')\n",
    "prob['opt_tsr'] = 7.525 #Float(iotype='in', desc= 'optimum tip speed ratio for operation in region 2')\n",
    "prob['cut_in_wind_speed'] = 3.0 #Float(units = 'm/s', iotype='in', desc= 'cut in wind speed for the wind turbine')\n",
    "prob['cut_out_wind_speed'] = 25.0 #Float(units = 'm/s', iotype='in', desc= 'cut out wind speed for the wind turbine')\n",
    "prob['altitude'] = 0.0 #Float(units = 'm', iotype='in', desc= 'altitude of wind plant')\n",
    "prob['air_density'] = 0 #Float(units = 'kg / (m * m * m)', iotype='in', desc= 'air density at wind plant site')  # default air density value is 0.0 - forces aero csm to calculate air density in model\n",
    "prob['max_efficiency'] = 0.902 #Float(iotype='in', desc = 'maximum efficiency of rotor and drivetrain - at rated power')\n",
    "prob['thrust_coefficient'] = 0.5 #Float(iotype='in', desc='thrust coefficient at rated power')\n",
    "prob['soiling_losses'] = 0.0\n",
    "prob['array_losses'] = 0.1\n",
    "prob['availability'] = 0.941\n",
    "prob['turbine_number'] = 100\n",
    "prob['shear_exponent'] = 0.1\n",
    "prob['wind_speed_50m'] = 10.02\n",
    "prob['weibull_k']= 2.15\n",
    "\n",
    "# Finance, BOS and OPEX inputs\n",
    "prob['RNA_mass'] = 256634.5 # RNA mass is not used in this simple model\n",
    "prob['sea_depth'] = 20.0\n",
    "prob['multiplier'] = 1.0\n",
    "\n",
    "\n",
    "print(\"Overall cost of energy for an offshore wind plant with 100 NREL 5 MW turbines\")\n",
    "for io in root.params:\n",
    "    print(io + ' ' + str(root.params[io]))\n",
    "\n",
    "prob.run()"
   ]
  },
  {
   "cell_type": "markdown",
   "metadata": {},
   "source": [
    "The results should show that the rotor diameter, hub height and rated power have changed and the overall lcoe is lower than before.\n",
    "\n",
    "Try adjusting the site mean wind speed (variable wind_speed_50m) and look at how this affects the optimization results.  What do you notice?  Run the optimization for mean wind speeds from 4 to 12 m/s and look at how the design variables and the objective function factors (AEP, TCC, etc) change with each optimization run."
   ]
  },
  {
   "cell_type": "code",
   "execution_count": 133,
   "metadata": {},
   "outputs": [
    {
     "name": "stdout",
     "output_type": "stream",
     "text": [
      "Overall cost of energy for an offshore wind plant with 100 NREL 5 MW turbines\n",
      "machine_rating 2299.00265273\n",
      "rotor_diameter 89.1495917804\n",
      "hub_height 78.3112476202\n",
      "turbine_number 100.0\n",
      "year 2009.0\n",
      "month 12.0\n",
      "net_aep 962709881.308\n",
      "rated_wind_speed 11.1464596671\n",
      "rated_rotor_speed 17.1384683112\n",
      "rotor_thrust 235590.575933\n",
      "rotor_torque 1420143.76381\n",
      "gross_aep 1136745638.57\n",
      "capacity_factor 47.8026365679\n",
      "avg_annual_opex 25951456.88\n",
      "opex_breakdown_preventative_opex 20624278.1024\n",
      "opex_breakdown_corrective_opex 4186409.66925\n",
      "opex_breakdown_lease_opex 1140769.10833\n",
      "opex_breakdown_other_opex 0.0\n",
      "turbine_cost 2245913.20146\n",
      "rotor_cost 407229.651926\n",
      "rotor_mass 40896.2694865\n",
      "turbine_mass 319310.692864\n",
      "bos_costs 297632574.124\n",
      "bos_breakdown_development_costs 9111597.51542\n",
      "bos_breakdown_preparation_and_staging_costs 6508650.03524\n",
      "bos_breakdown_transportation_costs 13664836.2083\n",
      "bos_breakdown_foundation_and_substructure_costs 97629750.5286\n",
      "bos_breakdown_electrical_costs 98638352.4047\n",
      "bos_breakdown_assembly_and_installation_costs 32543250.1762\n",
      "bos_breakdown_soft_costs 0.0\n",
      "bos_breakdown_other_costs 39536137.2559\n",
      "coe 0.0850857290698\n",
      "lcoe 0.0830603957859\n"
     ]
    }
   ],
   "source": [
    "print(\"Overall cost of energy for an offshore wind plant with 100 NREL 5 MW turbines\")\n",
    "for io in root.unknowns:\n",
    "    print(io + ' ' + str(root.unknowns[io]))"
   ]
  },
  {
   "cell_type": "code",
   "execution_count": null,
   "metadata": {
    "collapsed": true
   },
   "outputs": [],
   "source": []
  },
  {
   "cell_type": "code",
   "execution_count": null,
   "metadata": {
    "collapsed": true
   },
   "outputs": [],
   "source": []
  }
 ],
 "metadata": {
  "kernelspec": {
   "display_name": "Python 3",
   "language": "python",
   "name": "python3"
  },
  "language_info": {
   "codemirror_mode": {
    "name": "ipython",
    "version": 3
   },
   "file_extension": ".py",
   "mimetype": "text/x-python",
   "name": "python",
   "nbconvert_exporter": "python",
   "pygments_lexer": "ipython3",
   "version": "3.6.1"
  }
 },
 "nbformat": 4,
 "nbformat_minor": 1
}
